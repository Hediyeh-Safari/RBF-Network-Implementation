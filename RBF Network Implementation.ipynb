{
  "nbformat": 4,
  "nbformat_minor": 0,
  "metadata": {
    "colab": {
      "provenance": []
    },
    "kernelspec": {
      "name": "python3",
      "display_name": "Python 3"
    },
    "language_info": {
      "name": "python"
    }
  },
  "cells": [
    {
      "cell_type": "markdown",
      "source": [
        "# 2) Design of RBF NN based on Gaussian kernel functions with constant spread function and using all the points in the training set as centers of the RB functions."
      ],
      "metadata": {
        "id": "v6mIVZ8dSefM"
      }
    },
    {
      "cell_type": "markdown",
      "source": [
        "This code generates a dataset with 441 samples. Each sample has two features represented by the coordinates (x, y) in the range of -2 to 2. The labels for the samples are assigned based on whether the sample falls within a circle with radius 1 centered at the origin."
      ],
      "metadata": {
        "id": "VVVCm6i9Kere"
      }
    },
    {
      "cell_type": "code",
      "execution_count": 102,
      "metadata": {
        "id": "9TyBzBWQ0Viu"
      },
      "outputs": [],
      "source": [
        "import numpy as np\n",
        "import matplotlib.pyplot as plt\n",
        "from sklearn.cluster import KMeans"
      ]
    },
    {
      "cell_type": "markdown",
      "source": [
        "# Initialize dataset"
      ],
      "metadata": {
        "id": "1snXc5kqSE3D"
      }
    },
    {
      "cell_type": "code",
      "source": [
        "# initialize dataset\n",
        "# Generate training data by randomly sampling\n",
        "'''\n",
        "To ensure unbiased evaluation, the testing data was selected randomly from the remaining around 20% of the dataset.\n",
        "'''\n",
        "import numpy as np\n",
        "\n",
        "in_list = []\n",
        "out_list = []\n",
        "for i in range (352):\n",
        "    x= np.random.randint(0,21)\n",
        "    y= np.random.randint(0,21)\n",
        "\n",
        "\n",
        "    x1 = -2 +0.2*x\n",
        "    y1 = -2 + 0.2*y\n",
        "\n",
        "    if ((x1 ** 2 + y1 **2) <=1):\n",
        "        out_list .append(1)\n",
        "    else:\n",
        "        out_list.append(-1)\n",
        "\n",
        "    in_list.append([x1,y1])\n",
        "\n",
        "in_list=np.array(in_list)\n",
        "out_list=np.array(out_list)\n"
      ],
      "metadata": {
        "id": "iR32fm7H0b2m"
      },
      "execution_count": 103,
      "outputs": []
    },
    {
      "cell_type": "markdown",
      "source": [
        "# train/test spliting data"
      ],
      "metadata": {
        "id": "7EsSdLk4STI7"
      }
    },
    {
      "cell_type": "code",
      "source": [
        "#processes the sampled data from the previous code, splitting it into training and testing datasets.\n",
        "'''\n",
        "Splitting the 441 dataset into 80% to training and 20% to testing\n",
        "Hence 352 samples considered for training\n",
        "\n",
        "'''\n",
        "# Generate test input and output lists\n",
        "testin_list = np.array([[-2 + 0.2 * np.random.randint(0, 21), -2 + 0.2 * np.random.randint(0, 21)] for _ in range(89)])\n",
        "testout_list = np.where(np.linalg.norm(testin_list, axis=1) <= 1, 1, -1)"
      ],
      "metadata": {
        "id": "67q3wC1NFYxN"
      },
      "execution_count": 104,
      "outputs": []
    },
    {
      "cell_type": "markdown",
      "source": [
        "# Finding the distance"
      ],
      "metadata": {
        "id": "db7Q9i66avt0"
      }
    },
    {
      "cell_type": "code",
      "source": [
        "def distance(point1, point2):\n",
        "    \"\"\"Calculate the squared Euclidean distance between two points {||x-c||^2}.\"\"\"\n",
        "    dist = np.linalg.norm(point1 - point2) ** 2\n",
        "    return dist"
      ],
      "metadata": {
        "id": "wnV0Z84NaQwd"
      },
      "execution_count": 105,
      "outputs": []
    },
    {
      "cell_type": "markdown",
      "source": [
        "# Defining the gaussian"
      ],
      "metadata": {
        "id": "c8OBd4GjbK-B"
      }
    },
    {
      "cell_type": "code",
      "source": [
        "def gaussian(input_samples, centers, sigma):\n",
        "    \"\"\"\n",
        "    Calculate the Gaussian matrix given input samples, centers, and sigma.\n",
        "    The Gaussian matrix has dimensions N x M, where N is the number of samples and\n",
        "    M is the number of centers.\n",
        "\n",
        "    Args:\n",
        "        input_samples (ndarray): Input samples of shape (N, D).\n",
        "        centers (ndarray): Centers of shape (M, D).\n",
        "        sigma (float): Sigma value for the Gaussian function.\n",
        "\n",
        "    Returns:\n",
        "        gauss (ndarray): Gaussian matrix of shape (N, M).\n",
        "    \"\"\"\n",
        "\n",
        "    num_samples = input_samples.shape[0]\n",
        "    num_centers = centers.shape[0]\n",
        "    gauss = np.zeros((num_samples, num_centers), dtype=float)\n",
        "\n",
        "    for c_index, center in enumerate(centers):\n",
        "        for in_index, sample in enumerate(input_samples):\n",
        "            dist = distance(sample, center)\n",
        "            g = np.exp(-dist / (2 * (sigma ** 2)))\n",
        "\n",
        "            gauss[in_index, c_index] = g\n",
        "\n",
        "    return gauss\n"
      ],
      "metadata": {
        "id": "LOdSND3QbJGD"
      },
      "execution_count": 106,
      "outputs": []
    },
    {
      "cell_type": "markdown",
      "source": [
        "## Define Weight & output"
      ],
      "metadata": {
        "id": "1UhtBVPZkRrH"
      }
    },
    {
      "cell_type": "code",
      "source": [
        "def weight_cal(input_samples, centers, sigma, output_labels):\n",
        "    \"\"\"\n",
        "    Calculate the weights based on input samples, centers, sigma value, and initial output labels.\n",
        "    \"\"\"\n",
        "    gaussian_matrix = gaussian(input_samples, centers, sigma)\n",
        "    try:\n",
        "        weights = np.linalg.pinv(gaussian_matrix) @ output_labels\n",
        "    except np.linalg.LinAlgError:\n",
        "        raise ValueError(\"Singular matrix encountered. Unable to compute weights.\")\n",
        "\n",
        "    return weights\n"
      ],
      "metadata": {
        "id": "7KyTbGEKij_q"
      },
      "execution_count": 107,
      "outputs": []
    },
    {
      "cell_type": "code",
      "source": [
        "\n",
        "def cal_output(test_input, centers, sigma, weights):\n",
        "    \"\"\"\n",
        "    Calculate the output by multiplying the Gaussian matrix with the weight vector.\n",
        "    \"\"\"\n",
        "    gaussian_matrix_test = gaussian(test_input, centers, sigma)\n",
        "    output = np.dot(gaussian_matrix_test, weights)\n",
        "\n",
        "    return output"
      ],
      "metadata": {
        "id": "OdrXy45VkPq6"
      },
      "execution_count": 108,
      "outputs": []
    },
    {
      "cell_type": "markdown",
      "source": [
        "## MSE & accuracy"
      ],
      "metadata": {
        "id": "Rb3sdNEvmGBH"
      }
    },
    {
      "cell_type": "code",
      "source": [
        "import numpy as np\n",
        "\n",
        "def mean_squared_error(true_labels, predicted_labels):\n",
        "    \"\"\"\n",
        "    Calculate the mean squared error (MSE) between true labels and predicted labels.\n",
        "    \"\"\"\n",
        "    mse = np.mean(np.square(true_labels - predicted_labels))\n",
        "    return mse\n"
      ],
      "metadata": {
        "id": "1GkaowEnmN0b"
      },
      "execution_count": 109,
      "outputs": []
    },
    {
      "cell_type": "code",
      "source": [
        "def accuracy_score(true_labels, predicted_labels):\n",
        "    \"\"\"\n",
        "    Calculate the accuracy score between true labels and predicted labels.\n",
        "    \"\"\"\n",
        "    accuracy = np.mean(true_labels == predicted_labels)\n",
        "    return accuracy\n"
      ],
      "metadata": {
        "id": "OONIL2y7nJHI"
      },
      "execution_count": 110,
      "outputs": []
    },
    {
      "cell_type": "markdown",
      "source": [
        "## RBF neural network"
      ],
      "metadata": {
        "id": "4QXapC3bJ1wz"
      }
    },
    {
      "cell_type": "code",
      "source": [
        "sigma_list = [0.1,0.2,0.3,0.4,0.5,0.6,0.7,0.8,0.9,1,2,3,4,5,6,7,8,9,11,12,13,14,15,20,50,100,1000]\n",
        "error_list = []\n",
        "accuracy_list = []\n",
        "\n",
        "for sigma in sigma_list:\n",
        "    weights = weight_cal(in_list, in_list, sigma, out_list)\n",
        "    predicted_values = cal_output(testin_list, in_list, sigma, weights)\n",
        "    predicted_labels = np.sign(predicted_values)\n",
        "\n",
        "    error = mean_squared_error(testout_list, predicted_labels)\n",
        "    error_list.append(error)\n",
        "\n",
        "    accuracy = accuracy_score(testout_list, predicted_labels)\n",
        "    accuracy_list.append(accuracy)\n",
        "\n",
        "    print(f\"The MSE error when sigma is {sigma} is {error} and the accuracy is {accuracy}\")\n"
      ],
      "metadata": {
        "id": "sMZuq-sHWFUP",
        "colab": {
          "base_uri": "https://localhost:8080/"
        },
        "outputId": "92b843fd-9fee-4a97-dda3-ba298e32c7ad"
      },
      "execution_count": 111,
      "outputs": [
        {
          "output_type": "stream",
          "name": "stdout",
          "text": [
            "The MSE error when sigma is 0.1 is 0.0 and the accuracy is 1.0\n",
            "The MSE error when sigma is 0.2 is 0.0 and the accuracy is 1.0\n",
            "The MSE error when sigma is 0.3 is 0.1797752808988764 and the accuracy is 0.9550561797752809\n",
            "The MSE error when sigma is 0.4 is 0.5393258426966292 and the accuracy is 0.8651685393258427\n",
            "The MSE error when sigma is 0.5 is 0.4943820224719101 and the accuracy is 0.8764044943820225\n",
            "The MSE error when sigma is 0.6 is 0.6741573033707865 and the accuracy is 0.8314606741573034\n",
            "The MSE error when sigma is 0.7 is 0.6741573033707865 and the accuracy is 0.8314606741573034\n",
            "The MSE error when sigma is 0.8 is 0.9438202247191011 and the accuracy is 0.7640449438202247\n",
            "The MSE error when sigma is 0.9 is 0.2696629213483146 and the accuracy is 0.9325842696629213\n",
            "The MSE error when sigma is 1 is 0.2696629213483146 and the accuracy is 0.9325842696629213\n",
            "The MSE error when sigma is 2 is 0.0898876404494382 and the accuracy is 0.9775280898876404\n",
            "The MSE error when sigma is 3 is 0.0449438202247191 and the accuracy is 0.9887640449438202\n",
            "The MSE error when sigma is 4 is 0.0 and the accuracy is 1.0\n",
            "The MSE error when sigma is 5 is 0.0898876404494382 and the accuracy is 0.9775280898876404\n",
            "The MSE error when sigma is 6 is 0.0449438202247191 and the accuracy is 0.9887640449438202\n",
            "The MSE error when sigma is 7 is 0.0449438202247191 and the accuracy is 0.9887640449438202\n",
            "The MSE error when sigma is 8 is 0.0449438202247191 and the accuracy is 0.9887640449438202\n",
            "The MSE error when sigma is 9 is 0.0449438202247191 and the accuracy is 0.9887640449438202\n",
            "The MSE error when sigma is 11 is 0.0449438202247191 and the accuracy is 0.9887640449438202\n",
            "The MSE error when sigma is 12 is 0.0449438202247191 and the accuracy is 0.9887640449438202\n",
            "The MSE error when sigma is 13 is 0.0449438202247191 and the accuracy is 0.9887640449438202\n",
            "The MSE error when sigma is 14 is 0.0898876404494382 and the accuracy is 0.9775280898876404\n",
            "The MSE error when sigma is 15 is 0.0898876404494382 and the accuracy is 0.9775280898876404\n",
            "The MSE error when sigma is 20 is 0.0898876404494382 and the accuracy is 0.9775280898876404\n",
            "The MSE error when sigma is 50 is 0.1348314606741573 and the accuracy is 0.9662921348314607\n",
            "The MSE error when sigma is 100 is 0.2247191011235955 and the accuracy is 0.9438202247191011\n",
            "The MSE error when sigma is 1000 is 0.1348314606741573 and the accuracy is 0.9662921348314607\n"
          ]
        }
      ]
    },
    {
      "cell_type": "code",
      "source": [
        "'''\n",
        "# Plot original data points\n",
        "plt.scatter(in_list[:, 0], in_list[:, 1], c=out_list, cmap='bwr', label='Original Data')\n",
        "\n",
        "# Generate a meshgrid to create a contour plot\n",
        "x_min, x_max = -4, 4\n",
        "y_min, y_max = -4, 4\n",
        "step = 0.05\n",
        "xx, yy = np.meshgrid(np.arange(x_min, x_max, step), np.arange(y_min, y_max, step))\n",
        "mesh_input = np.c_[xx.ravel(), yy.ravel()]\n",
        "\n",
        "# Calculate predicted values for the meshgrid\n",
        "predicted_values = cal_output(mesh_input, in_list, sigma, weights)\n",
        "predicted_labels = np.sign(predicted_values)\n",
        "\n",
        "# Plot the learned model\n",
        "plt.contourf(xx, yy, predicted_labels.reshape(xx.shape), alpha=0.5, cmap='bwr', levels=[-1, 0, 1])\n",
        "plt.colorbar(label='Predicted Labels')\n",
        "\n",
        "# Set plot title and labels\n",
        "plt.title('RBF Model: Original Data and Learned Model')\n",
        "plt.xlabel('X')\n",
        "plt.ylabel('Y')\n",
        "\n",
        "# Show the legend\n",
        "plt.legend()\n",
        "\n",
        "# Display the plot\n",
        "plt.show()\n",
        "'''"
      ],
      "metadata": {
        "colab": {
          "base_uri": "https://localhost:8080/",
          "height": 140
        },
        "id": "3pUexgyJuaUR",
        "outputId": "c3774ac8-de77-43fc-96e7-ddb973dec616"
      },
      "execution_count": 112,
      "outputs": [
        {
          "output_type": "execute_result",
          "data": {
            "text/plain": [
              "\"\\n# Plot original data points\\nplt.scatter(in_list[:, 0], in_list[:, 1], c=out_list, cmap='bwr', label='Original Data')\\n\\n# Generate a meshgrid to create a contour plot\\nx_min, x_max = -4, 4\\ny_min, y_max = -4, 4\\nstep = 0.05\\nxx, yy = np.meshgrid(np.arange(x_min, x_max, step), np.arange(y_min, y_max, step))\\nmesh_input = np.c_[xx.ravel(), yy.ravel()]\\n\\n# Calculate predicted values for the meshgrid\\npredicted_values = cal_output(mesh_input, in_list, sigma, weights)\\npredicted_labels = np.sign(predicted_values)\\n\\n# Plot the learned model\\nplt.contourf(xx, yy, predicted_labels.reshape(xx.shape), alpha=0.5, cmap='bwr', levels=[-1, 0, 1])\\nplt.colorbar(label='Predicted Labels')\\n\\n# Set plot title and labels\\nplt.title('RBF Model: Original Data and Learned Model')\\nplt.xlabel('X')\\nplt.ylabel('Y')\\n\\n# Show the legend\\nplt.legend()\\n\\n# Display the plot\\nplt.show()\\n\""
            ],
            "application/vnd.google.colaboratory.intrinsic+json": {
              "type": "string"
            }
          },
          "metadata": {},
          "execution_count": 112
        }
      ]
    },
    {
      "cell_type": "markdown",
      "source": [
        "# Plot the error"
      ],
      "metadata": {
        "id": "P6-r55BxKA8p"
      }
    },
    {
      "cell_type": "code",
      "source": [
        "import matplotlib.pyplot as plt\n",
        "\n",
        "# Plot error values\n",
        "plt.plot(sigma_list, error_list, marker='o')\n",
        "\n",
        "# Set plot title and labels\n",
        "plt.title('MSE Error vs. Sigma')\n",
        "plt.xlabel('Sigma')\n",
        "plt.ylabel('MSE Error')\n",
        "\n",
        "# Display the plot\n",
        "plt.show()\n"
      ],
      "metadata": {
        "colab": {
          "base_uri": "https://localhost:8080/",
          "height": 472
        },
        "id": "Riqujp-MvrRE",
        "outputId": "45eaa8a6-e77b-42fe-bc96-62be29cbc03a"
      },
      "execution_count": 113,
      "outputs": [
        {
          "output_type": "display_data",
          "data": {
            "text/plain": [
              "<Figure size 640x480 with 1 Axes>"
            ],
            "image/png": "[encoded data removed]"
          },
          "metadata": {}
        }
      ]
    },
    {
      "cell_type": "code",
      "source": [
        "plt.plot(error_list, color='blue', linestyle='-', marker='o', label='MSE Error')\n",
        "plt.title(\"Testing MSE Error\")\n",
        "plt.xlabel(\"Sigma Index\")\n",
        "plt.ylabel(\"Error\")\n",
        "plt.legend()\n",
        "\n",
        "with plt.style.context('seaborn'):\n",
        "    plt.show()\n"
      ],
      "metadata": {
        "colab": {
          "base_uri": "https://localhost:8080/",
          "height": 470
        },
        "id": "m2yzDya2nrjD",
        "outputId": "df26820c-119d-4c15-dea9-8d979da580a7"
      },
      "execution_count": 114,
      "outputs": [
        {
          "output_type": "display_data",
          "data": {
            "text/plain": [
              "<Figure size 640x480 with 1 Axes>"
            ],
            "image/png": "[encoded data removed]"
          },
          "metadata": {}
        }
      ]
    },
    {
      "cell_type": "markdown",
      "source": [
        "# Plot the accuracy"
      ],
      "metadata": {
        "id": "TYIXoXZGKLJD"
      }
    },
    {
      "cell_type": "code",
      "source": [
        "plt.plot(accuracy_list, color='green', linestyle='-', marker='o', label='Accuracy')\n",
        "plt.title(\"Testing Accuracy\")\n",
        "plt.xlabel(\"Sigma Index\")\n",
        "plt.ylabel(\"Accuracy\")\n",
        "plt.legend()\n",
        "\n",
        "with plt.style.context('seaborn'):\n",
        "    plt.show()"
      ],
      "metadata": {
        "id": "fH3567CLrQb6",
        "colab": {
          "base_uri": "https://localhost:8080/",
          "height": 470
        },
        "outputId": "dac0c4e7-fcc1-43a0-a2e8-e79e71b3b84b"
      },
      "execution_count": 115,
      "outputs": [
        {
          "output_type": "display_data",
          "data": {
            "text/plain": [
              "<Figure size 640x480 with 1 Axes>"
            ],
            "image/png": "[encoded data removed]"
          },
          "metadata": {}
        }
      ]
    },
    {
      "cell_type": "code",
      "source": [
        "# Validation\n",
        "validation_in_list = np.array([[-2 + 0.2 * np.random.randint(0, 21), -2 + 0.2 * np.random.randint(0, 21)] for _ in range(100)])\n",
        "validation_out_list = np.where(np.linalg.norm(validation_in_list, axis=1) <= 1, 1, -1)\n",
        "\n",
        "best_sigma = sigma_list[np.argmin(error_list)]\n",
        "best_weights = weight_cal(in_list, in_list, best_sigma, out_list)\n",
        "predicted_values = cal_output(validation_in_list, in_list, best_sigma, best_weights)\n",
        "predicted_labels = np.sign(predicted_values)\n",
        "\n",
        "validation_error = mean_squared_error(validation_out_list, predicted_labels)\n",
        "validation_accuracy = accuracy_score(validation_out_list, predicted_labels)\n",
        "\n",
        "print(f\"\\nValidation Results:\")\n",
        "print(f\"The MSE error with the best sigma ({best_sigma}) is {validation_error} and the accuracy is {validation_accuracy}\")\n"
      ],
      "metadata": {
        "colab": {
          "base_uri": "https://localhost:8080/"
        },
        "id": "wbgz5pQjytmS",
        "outputId": "456d3ba8-76dd-44bb-8ca9-1e1139435634"
      },
      "execution_count": 116,
      "outputs": [
        {
          "output_type": "stream",
          "name": "stdout",
          "text": [
            "\n",
            "Validation Results:\n",
            "The MSE error with the best sigma (0.1) is 0.12 and the accuracy is 0.97\n"
          ]
        }
      ]
    },
    {
      "cell_type": "markdown",
      "source": [
        "# Discussion\n"
      ],
      "metadata": {
        "id": "Mm0ET2SeOVg3"
      }
    },
    {
      "cell_type": "markdown",
      "source": [
        "The Radial Basis Function (RBF) employs a nonlinear transformation within its hidden layer to map data from a low-dimensional space to a higher-dimensional one, facilitating easier classification—an approach commonly known as the kernel trick. Specifically, the RBF utilizes the Gaussian function as the non-linear transformation in this context. This method combines unsupervised learning for center determination with supervised learning for weight calculation, resulting in a hybridized approach to problem-solving.\n",
        "\n",
        "Based on the implementation and the resulting graph, it was observed that a sigma value of 0.1 led to 100% accuracy in one instance. However, upon conducting multiple random runs, it was discovered that the performance of a sigma value of 0.1 was inconsistent. This inconsistency can be attributed to the fact that a smaller width did not effectively interpolate the function between sample points. On the other hand, consistent and satisfactory accuracy was achieved with width values of 3 and 4. Notably, a sigma value of 4 yielded 100% accuracy in this implementation, indicating that a sigma value of 4 provides the network with adequate interpolation capabilities.\n",
        "\n",
        "In this specific case, it has been observed that even larger values of sigma perform well. However, it is crucial to consider that using excessively large sigma values may not be ideal for all runs, as it can lead to the loss of information when the radial functions' ranges deviate significantly from the original range of the function.\n",
        "\n",
        "Additionally, it is worth noting that the accuracy tends to saturate after a spread value of 20 due to the exponential nature of the function. Based on this analysis, a mid-range sigma value of 4 has been chosen as the optimal width value, achieving a consistent 100% accuracy. This choice strikes a balance between performance and the potential for information loss.\n",
        "\n",
        "\n",
        "\n"
      ],
      "metadata": {
        "id": "5redBH7cPMdn"
      }
    },
    {
      "cell_type": "markdown",
      "source": [
        "## **Radial Basis Function Neural Network (RBF NN) with only 150 centers**"
      ],
      "metadata": {
        "id": "z0KoBH7WU8Vz"
      }
    },
    {
      "cell_type": "markdown",
      "source": [
        "**Randomly sample 150 data points from the training dataset.**"
      ],
      "metadata": {
        "id": "Kuwk87OgVpGi"
      }
    },
    {
      "cell_type": "code",
      "source": [
        "# Randomly select 150 indices from in_list\n",
        "random_indices = np.random.choice(in_list.shape[0], size=150, replace=False)\n",
        "\n",
        "# Create a new array containing the selected rows from in_list\n",
        "list_in_150 = in_list[random_indices, :]\n",
        "\n"
      ],
      "metadata": {
        "id": "B5H-y2TmRUlg"
      },
      "execution_count": 117,
      "outputs": []
    },
    {
      "cell_type": "markdown",
      "source": [
        "# **RBF network**"
      ],
      "metadata": {
        "id": "c5L8wOCrWK_e"
      }
    },
    {
      "cell_type": "code",
      "source": [
        "# Calculate weights for list_in_150\n",
        "weights_150 = weight_cal(in_list, list_in_150, 4, out_list)\n",
        "\n",
        "# Calculate the predicted output for testin_list using list_in_150 and sigma=4\n",
        "y_value_150 = cal_output(testin_list, list_in_150, 4, weights_150)\n",
        "\n",
        "# Compute the predicted labels and evaluate performance for list_in_150\n",
        "y_pred_150 = np.sign(y_value_150)\n",
        "error_150 = mean_squared_error(testout_list, y_pred_150)\n",
        "accuracy_150 = accuracy_score(testout_list, y_pred_150)\n",
        "\n",
        "\n",
        "print(f\"The error for taking 150 random centers with a sigma value of 4 is: {round(error_150, 5)}\")\n",
        "print(f\"The accuracy for taking 150 random centers with a sigma value of 4 is: {round(accuracy_150, 5)}\")\n"
      ],
      "metadata": {
        "colab": {
          "base_uri": "https://localhost:8080/"
        },
        "id": "wYj-fTTOWsqS",
        "outputId": "72ed9628-2da5-4f1f-809d-3257924a1662"
      },
      "execution_count": 118,
      "outputs": [
        {
          "output_type": "stream",
          "name": "stdout",
          "text": [
            "The error for taking 150 random centers with a sigma value of 4 is: 0.0\n",
            "The accuracy for taking 150 random centers with a sigma value of 4 is: 1.0\n"
          ]
        }
      ]
    },
    {
      "cell_type": "markdown",
      "source": [
        "# **Use the K-means algorithm.**"
      ],
      "metadata": {
        "id": "7MANWa40YJQ1"
      }
    },
    {
      "cell_type": "markdown",
      "source": [
        "**utilization of K-means algorithm from the scikit-learn library in Python to find the centers for the RBF NN**"
      ],
      "metadata": {
        "id": "wuAoO9TfY2NB"
      }
    },
    {
      "cell_type": "code",
      "source": [
        "# Perform K-means clustering with 150 clusters\n",
        "kmeans = KMeans(n_clusters=150)\n",
        "cluster_labels = kmeans.fit_predict(in_list)\n",
        "\n",
        "# Obtain the cluster centers\n",
        "cluster_centers = kmeans.cluster_centers_"
      ],
      "metadata": {
        "colab": {
          "base_uri": "https://localhost:8080/"
        },
        "id": "z4v28d0UXL7I",
        "outputId": "ed1d6883-7370-4486-c9ff-cca8855083c9"
      },
      "execution_count": 119,
      "outputs": [
        {
          "output_type": "stream",
          "name": "stderr",
          "text": [
            "/usr/local/lib/python3.10/dist-packages/sklearn/cluster/_kmeans.py:870: FutureWarning: The default value of `n_init` will change from 10 to 'auto' in 1.4. Set the value of `n_init` explicitly to suppress the warning\n",
            "  warnings.warn(\n"
          ]
        }
      ]
    },
    {
      "cell_type": "markdown",
      "source": [
        "**RBF network**"
      ],
      "metadata": {
        "id": "1MDjbp6XZTaq"
      }
    },
    {
      "cell_type": "code",
      "source": [
        "# Calculate weights for kmean_center\n",
        "weights_k_150 = weight_cal(in_list, cluster_centers, 4, out_list)\n",
        "\n",
        "# Calculate the predicted output for testin_list using kmean_center and sigma=4\n",
        "y_value_k_150 = cal_output(testin_list, cluster_centers, 4, weights_k_150)\n",
        "\n",
        "# Compute the predicted labels and evaluate performance for kmean_center\n",
        "y_pred_k_150 = np.sign(y_value_k_150)\n",
        "error_k_150 = mean_squared_error(testout_list, y_pred_k_150)\n",
        "accuracy_k_150 = accuracy_score(testout_list, y_pred_k_150)\n",
        "\n",
        "print(f\"The error for taking 150 k-means centers with a sigma value of 4 is: {round(error_k_150, 4)}\")\n",
        "print(f\"The accuracy for taking 150 k-means centers with a sigma value of 4 is: {round(accuracy_k_150, 4)}\")\n"
      ],
      "metadata": {
        "colab": {
          "base_uri": "https://localhost:8080/"
        },
        "id": "KUvdvJprY0tO",
        "outputId": "cfa2ac72-c142-450a-da28-157b87db1093"
      },
      "execution_count": 120,
      "outputs": [
        {
          "output_type": "stream",
          "name": "stdout",
          "text": [
            "The error for taking 150 k-means centers with a sigma value of 4 is: 0.0\n",
            "The accuracy for taking 150 k-means centers with a sigma value of 4 is: 1.0\n"
          ]
        }
      ]
    },
    {
      "cell_type": "markdown",
      "source": [
        "# **Discussion**"
      ],
      "metadata": {
        "id": "mx8K0VrYap7A"
      }
    },
    {
      "cell_type": "markdown",
      "source": [
        "Based on the experimental findings resulting from the random initialization of 150 centers from a dataset comprising 352 training samples, it has been observed that the performance of this method occasionally surpasses that of K-means center initialization, while in other instances it falls short, yielding similar results. However, it is worth noting that the disparity in accuracy between K-means and the random initialization of 150 centers is minimal.\n",
        "\n",
        "To achieve optimal performance, it is recommended that the number of non-linear transformations in the hidden layer be equal to the dimensions of the input data. Excessive sparsity in the functions used can lead to a decline in network performance. This observation is evident in the implementation, where spanning the hidden layer across the input dataspace resulted in a 100% accuracy with a sigma value of 4. Conversely, when the hidden layer consisted of 150 units, the network's performance dropped to 100% for random centers and 100% for K-means centers, using the same sigma value.\n",
        "\n",
        "The primary concept behind Radial Basis Function (RBF) networks is to transform low-dimensional data into a higher-dimensional space to enhance linear separability. It is generally observed that higher dimensions lead to improved network performance. In the case of RBF, the ideal multi-dimensional space for projecting the data is the same as the input dataspace, specifically the number of training samples. Consequently, when all the training data points are utilized as centers, there is a higher probability of achieving better linear separation compared to using only 150 centers. This claim is substantiated by the obtained results."
      ],
      "metadata": {
        "id": "5S7FIeS7b1Dt"
      }
    },
    {
      "cell_type": "markdown",
      "source": [
        "# References:\n",
        "1-\thttps://towardsdatascience.com/radial-basis-functions-neural-networks-all-we-need-to-know-9a88cc053448\n",
        "\n",
        "2-\thttps://www.hackerearth.com/blog/developers/radial-basis-function-network/\n"
      ],
      "metadata": {
        "id": "Kel2dLC67wuP"
      }
    }
  ]
}